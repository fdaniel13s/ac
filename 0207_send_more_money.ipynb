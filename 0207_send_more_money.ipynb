{
  "nbformat": 4,
  "nbformat_minor": 0,
  "metadata": {
    "colab": {
      "provenance": [],
      "authorship_tag": "ABX9TyNWuR4KQJKdsoHnyNeGOxH5",
      "include_colab_link": true
    },
    "kernelspec": {
      "name": "python3",
      "display_name": "Python 3"
    },
    "language_info": {
      "name": "python"
    }
  },
  "cells": [
    {
      "cell_type": "markdown",
      "metadata": {
        "id": "view-in-github",
        "colab_type": "text"
      },
      "source": [
        "<a href=\"https://colab.research.google.com/github/lmcanavals/algorithmic_complexity2024/blob/main/0207_send_more_money.ipynb\" target=\"_parent\"><img src=\"https://colab.research.google.com/assets/colab-badge.svg\" alt=\"Open In Colab\"/></a>"
      ]
    },
    {
      "cell_type": "markdown",
      "source": [
        "# Crypto aritmo"
      ],
      "metadata": {
        "id": "XJbgwgbPNiPW"
      }
    },
    {
      "cell_type": "code",
      "source": [
        "def toNum(word, codex):\n",
        "    num = 0\n",
        "    for ch in word:\n",
        "        num = num*10 + codex[ch]\n",
        "\n",
        "    return num\n",
        "\n",
        "def check(permut, chars, words):\n",
        "    codex = { ch: d for ch, d in zip(chars, permut) }\n",
        "    nums = [toNum(word, codex) for word in words]\n",
        "    total = sum(nums[:-1])\n",
        "    if total == nums[-1]:\n",
        "        print(codex, end=' -> ')\n",
        "        for word, num in zip(words, nums):\n",
        "            print(word, num, end=' ')\n",
        "        print()\n",
        "\n",
        "def permutate(permut, words, chars):\n",
        "    if len(permut) == len(chars):\n",
        "        check(permut, chars, words)\n",
        "    else:\n",
        "        digits = [i for i in range(10) if i not in permut]\n",
        "        for d in digits:\n",
        "            permut.append(d)\n",
        "            permutate(permut, words, chars)\n",
        "            permut.pop()\n",
        "\n",
        "\n",
        "def solve(words):\n",
        "    chars = list(set(''.join(words)))\n",
        "    permutate([], words, chars)\n",
        "\n",
        "solve(['SEND', 'MORE', 'MONEY']) # SEND + MORE = MONEY"
      ],
      "metadata": {
        "colab": {
          "base_uri": "https://localhost:8080/"
        },
        "id": "K8XoBoHG2m8I",
        "outputId": "96df9c37-618b-4e36-c733-e6a42b950c52"
      },
      "execution_count": 42,
      "outputs": [
        {
          "output_type": "stream",
          "name": "stdout",
          "text": [
            "{'S': 2, 'N': 1, 'Y': 5, 'D': 7, 'R': 6, 'O': 3, 'M': 0, 'E': 8} -> SEND 2817 MORE 368 MONEY 3185 \n",
            "{'S': 2, 'N': 1, 'Y': 7, 'D': 9, 'R': 6, 'O': 3, 'M': 0, 'E': 8} -> SEND 2819 MORE 368 MONEY 3187 \n",
            "{'S': 3, 'N': 1, 'Y': 6, 'D': 9, 'R': 5, 'O': 4, 'M': 0, 'E': 7} -> SEND 3719 MORE 457 MONEY 4176 \n",
            "{'S': 3, 'N': 1, 'Y': 9, 'D': 2, 'R': 6, 'O': 4, 'M': 0, 'E': 7} -> SEND 3712 MORE 467 MONEY 4179 \n",
            "{'S': 3, 'N': 2, 'Y': 7, 'D': 9, 'R': 5, 'O': 4, 'M': 0, 'E': 8} -> SEND 3829 MORE 458 MONEY 4287 \n",
            "{'S': 3, 'N': 2, 'Y': 9, 'D': 1, 'R': 6, 'O': 4, 'M': 0, 'E': 8} -> SEND 3821 MORE 468 MONEY 4289 \n",
            "{'S': 5, 'N': 3, 'Y': 8, 'D': 1, 'R': 4, 'O': 6, 'M': 0, 'E': 7} -> SEND 5731 MORE 647 MONEY 6378 \n",
            "{'S': 5, 'N': 3, 'Y': 9, 'D': 2, 'R': 4, 'O': 6, 'M': 0, 'E': 7} -> SEND 5732 MORE 647 MONEY 6379 \n",
            "{'S': 5, 'N': 4, 'Y': 7, 'D': 9, 'R': 3, 'O': 6, 'M': 0, 'E': 8} -> SEND 5849 MORE 638 MONEY 6487 \n",
            "{'S': 6, 'N': 1, 'Y': 3, 'D': 9, 'R': 2, 'O': 7, 'M': 0, 'E': 4} -> SEND 6419 MORE 724 MONEY 7143 \n",
            "{'S': 6, 'N': 1, 'Y': 9, 'D': 5, 'R': 3, 'O': 7, 'M': 0, 'E': 4} -> SEND 6415 MORE 734 MONEY 7149 \n",
            "{'S': 6, 'N': 2, 'Y': 9, 'D': 4, 'R': 3, 'O': 7, 'M': 0, 'E': 5} -> SEND 6524 MORE 735 MONEY 7259 \n",
            "{'S': 6, 'N': 5, 'Y': 1, 'D': 3, 'R': 2, 'O': 7, 'M': 0, 'E': 8} -> SEND 6853 MORE 728 MONEY 7581 \n",
            "{'S': 6, 'N': 5, 'Y': 9, 'D': 1, 'R': 3, 'O': 7, 'M': 0, 'E': 8} -> SEND 6851 MORE 738 MONEY 7589 \n",
            "{'S': 7, 'N': 1, 'Y': 9, 'D': 6, 'R': 2, 'O': 8, 'M': 0, 'E': 3} -> SEND 7316 MORE 823 MONEY 8139 \n",
            "{'S': 7, 'N': 2, 'Y': 3, 'D': 9, 'R': 1, 'O': 8, 'M': 0, 'E': 4} -> SEND 7429 MORE 814 MONEY 8243 \n",
            "{'S': 7, 'N': 3, 'Y': 4, 'D': 9, 'R': 1, 'O': 8, 'M': 0, 'E': 5} -> SEND 7539 MORE 815 MONEY 8354 \n",
            "{'S': 7, 'N': 3, 'Y': 6, 'D': 1, 'R': 2, 'O': 8, 'M': 0, 'E': 5} -> SEND 7531 MORE 825 MONEY 8356 \n",
            "{'S': 7, 'N': 3, 'Y': 9, 'D': 4, 'R': 2, 'O': 8, 'M': 0, 'E': 5} -> SEND 7534 MORE 825 MONEY 8359 \n",
            "{'S': 7, 'N': 4, 'Y': 5, 'D': 9, 'R': 1, 'O': 8, 'M': 0, 'E': 6} -> SEND 7649 MORE 816 MONEY 8465 \n",
            "{'S': 7, 'N': 4, 'Y': 9, 'D': 3, 'R': 2, 'O': 8, 'M': 0, 'E': 6} -> SEND 7643 MORE 826 MONEY 8469 \n",
            "{'S': 8, 'N': 2, 'Y': 7, 'D': 4, 'R': 1, 'O': 9, 'M': 0, 'E': 3} -> SEND 8324 MORE 913 MONEY 9237 \n",
            "{'S': 8, 'N': 3, 'Y': 6, 'D': 2, 'R': 1, 'O': 9, 'M': 0, 'E': 4} -> SEND 8432 MORE 914 MONEY 9346 \n",
            "{'S': 8, 'N': 4, 'Y': 7, 'D': 2, 'R': 1, 'O': 9, 'M': 0, 'E': 5} -> SEND 8542 MORE 915 MONEY 9457 \n",
            "{'S': 9, 'N': 6, 'Y': 2, 'D': 7, 'R': 8, 'O': 0, 'M': 1, 'E': 5} -> SEND 9567 MORE 1085 MONEY 10652 \n"
          ]
        }
      ]
    },
    {
      "cell_type": "code",
      "source": [
        "9567 + 1085 == 10652"
      ],
      "metadata": {
        "colab": {
          "base_uri": "https://localhost:8080/"
        },
        "id": "H6tLkGbgKk12",
        "outputId": "986fbe6b-dc49-4506-a027-5c274682bd01"
      },
      "execution_count": 43,
      "outputs": [
        {
          "output_type": "execute_result",
          "data": {
            "text/plain": [
              "True"
            ]
          },
          "metadata": {},
          "execution_count": 43
        }
      ]
    },
    {
      "cell_type": "code",
      "source": [],
      "metadata": {
        "id": "lAw6i--JNcmK"
      },
      "execution_count": null,
      "outputs": []
    }
  ]
}