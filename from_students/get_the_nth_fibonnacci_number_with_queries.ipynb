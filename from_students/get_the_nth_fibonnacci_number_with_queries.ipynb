{
  "nbformat": 4,
  "nbformat_minor": 0,
  "metadata": {
    "colab": {
      "provenance": []
    },
    "kernelspec": {
      "name": "python3",
      "display_name": "Python 3"
    },
    "language_info": {
      "name": "python"
    }
  },
  "cells": [
    {
      "cell_type": "markdown",
      "source": [
        "# Calculate the nth fibonacci number."
      ],
      "metadata": {
        "id": "R_pzisWUyTek"
      }
    },
    {
      "cell_type": "markdown",
      "source": [
        "### Constraints:"
      ],
      "metadata": {
        "id": "tWw-GeIvyW80"
      }
    },
    {
      "cell_type": "markdown",
      "source": [
        "1 <= n,m <= 1e6"
      ],
      "metadata": {
        "id": "sJ_jyddEybjF"
      }
    },
    {
      "cell_type": "markdown",
      "source": [
        "## Bad implementation: time complexity = (m*n)"
      ],
      "metadata": {
        "id": "36XotEUex1Ce"
      }
    },
    {
      "cell_type": "code",
      "execution_count": null,
      "metadata": {
        "id": "kXy-VQnRxrW_"
      },
      "outputs": [],
      "source": [
        "def bad_implementation():\n",
        "  queries = int(input())\n",
        "  while queries:\n",
        "    num = int(input())\n",
        "    t1,t2 = 0,1\n",
        "    for _ in range(num):\n",
        "      t1,t2 = t2, t1+t2\n",
        "    print(t2)\n",
        "    queries-=1"
      ]
    },
    {
      "cell_type": "markdown",
      "source": [
        "## Expected solution: time complexity = (m + max(n))"
      ],
      "metadata": {
        "id": "nwINiOViygec"
      }
    },
    {
      "cell_type": "code",
      "source": [
        "def fib_with_queries():\n",
        "  fib_term = [-1]*(int(1e5)+5)\n",
        "  def Bottom_up_fib(n):\n",
        "    if(n==0) : return 0\n",
        "    if n==1 : return  1\n",
        "    if fib_term[n]!=-1: return fib_term[n]\n",
        "    fib_term[n] = Bottom_up_fib(n-1) + Bottom_up_fib(n-2)\n",
        "    return fib_term[n]\n",
        "\n",
        "  queries = int(input())\n",
        "  while queries:\n",
        "    num = int(input())\n",
        "    print(Bottom_up_fib(num))\n",
        "    queries-=1"
      ],
      "metadata": {
        "id": "u5MYxK4iy8El"
      },
      "execution_count": null,
      "outputs": []
    }
  ]
}
